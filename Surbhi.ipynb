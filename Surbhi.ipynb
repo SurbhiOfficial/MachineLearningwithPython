{
  "nbformat": 4,
  "nbformat_minor": 0,
  "metadata": {
    "colab": {
      "name": "Surbhi.ipynb",
      "provenance": [],
      "authorship_tag": "ABX9TyNnxzzuixF+pic44/5+U+L0",
      "include_colab_link": true
    },
    "kernelspec": {
      "name": "python3",
      "display_name": "Python 3"
    }
  },
  "cells": [
    {
      "cell_type": "markdown",
      "metadata": {
        "id": "view-in-github",
        "colab_type": "text"
      },
      "source": [
        "<a href=\"https://colab.research.google.com/github/SurbhiOfficial/MachineLearningwithPython/blob/main/Surbhi.ipynb\" target=\"_parent\"><img src=\"https://colab.research.google.com/assets/colab-badge.svg\" alt=\"Open In Colab\"/></a>"
      ]
    },
    {
      "cell_type": "markdown",
      "metadata": {
        "id": "1wc73MVrQRQG"
      },
      "source": [
        " Importing Libraries into Project \n",
        " "
      ]
    },
    {
      "cell_type": "code",
      "metadata": {
        "id": "6_YQMBvwneA4"
      },
      "source": [
        "import numpy as np\n",
        "import pandas as pd\n"
      ],
      "execution_count": null,
      "outputs": []
    },
    {
      "cell_type": "markdown",
      "metadata": {
        "id": "KD1AnRW6qcw7"
      },
      "source": [
        "Loading the Dataset "
      ]
    },
    {
      "cell_type": "code",
      "metadata": {
        "id": "oEGcAb7FsOxA"
      },
      "source": [
        "from sklearn.datasets import load_iris\n",
        "iris_dataset = load_iris()"
      ],
      "execution_count": null,
      "outputs": []
    },
    {
      "cell_type": "markdown",
      "metadata": {
        "id": "2rHqXRS-sxmU"
      },
      "source": [
        "From Printing the keys of Iris_dataset "
      ]
    },
    {
      "cell_type": "code",
      "metadata": {
        "colab": {
          "base_uri": "https://localhost:8080/"
        },
        "id": "lrd0S0OwuNWa",
        "outputId": "1ddb7a24-2bcf-49b1-ef90-8e8a2a997fb6"
      },
      "source": [
        "print(\"Keys of iris_dataset : \\n {}\".format(iris_dataset.keys()))"
      ],
      "execution_count": null,
      "outputs": [
        {
          "output_type": "stream",
          "text": [
            "Keys of iris_dataset : \n",
            " dict_keys(['data', 'target', 'target_names', 'DESCR', 'feature_names', 'filename'])\n"
          ],
          "name": "stdout"
        }
      ]
    },
    {
      "cell_type": "markdown",
      "metadata": {
        "id": "OApct25RuudH"
      },
      "source": [
        "Printing the Value of Description key of Iris_dataset"
      ]
    },
    {
      "cell_type": "code",
      "metadata": {
        "colab": {
          "base_uri": "https://localhost:8080/"
        },
        "id": "mBQ1Uv7Vu_pv",
        "outputId": "be56e091-465d-4815-f28c-df9d6850b38d"
      },
      "source": [
        "print(iris_dataset['DESCR'][:194]+\"\\n...\")"
      ],
      "execution_count": null,
      "outputs": [
        {
          "output_type": "stream",
          "text": [
            ".. _iris_dataset:\n",
            "\n",
            "Iris plants dataset\n",
            "--------------------\n",
            "\n",
            "**Data Set Characteristics:**\n",
            "\n",
            "    :Number of Instances: 150 (50 in each of three classes)\n",
            "    :Number of Attributes: 4 numeric, pred\n",
            "...\n"
          ],
          "name": "stdout"
        }
      ]
    },
    {
      "cell_type": "markdown",
      "metadata": {
        "id": "bYTEpxicvYg6"
      },
      "source": [
        "Printing the Value of Target_name key of Iris_dataset "
      ]
    },
    {
      "cell_type": "code",
      "metadata": {
        "colab": {
          "base_uri": "https://localhost:8080/"
        },
        "id": "gDPdhkHmv8AY",
        "outputId": "59eaff80-ee01-41a3-ec7c-7d61b34cdf54"
      },
      "source": [
        "print(\"Target names: {}\".format(iris_dataset['target_names']))"
      ],
      "execution_count": null,
      "outputs": [
        {
          "output_type": "stream",
          "text": [
            "Target names: ['setosa' 'versicolor' 'virginica']\n"
          ],
          "name": "stdout"
        }
      ]
    },
    {
      "cell_type": "markdown",
      "metadata": {
        "id": "qpYg4B95wJEE"
      },
      "source": [
        "Printing the Value of Feature Key of Iris_dataset "
      ]
    },
    {
      "cell_type": "code",
      "metadata": {
        "colab": {
          "base_uri": "https://localhost:8080/"
        },
        "id": "81idcvxUxDUl",
        "outputId": "471a8847-fe2b-42a2-c834-27f2cf6ac2d5"
      },
      "source": [
        "print(\"Feature Names: \\n {}\".format(iris_dataset['feature_names']))"
      ],
      "execution_count": null,
      "outputs": [
        {
          "output_type": "stream",
          "text": [
            "Feature Names: \n",
            " ['sepal length (cm)', 'sepal width (cm)', 'petal length (cm)', 'petal width (cm)']\n"
          ],
          "name": "stdout"
        }
      ]
    },
    {
      "cell_type": "markdown",
      "metadata": {
        "id": "_Adn7GPIxYdM"
      },
      "source": [
        "Printing the value of data key of Iris_dataset "
      ]
    },
    {
      "cell_type": "code",
      "metadata": {
        "colab": {
          "base_uri": "https://localhost:8080/"
        },
        "id": "cPgFVLjaxzh-",
        "outputId": "443a44be-15a9-414d-d3cc-1bc7e6eb7a92"
      },
      "source": [
        "print(\"Type of Data: \\n {}\".format(type(iris_dataset['data'])))"
      ],
      "execution_count": null,
      "outputs": [
        {
          "output_type": "stream",
          "text": [
            "Type of Data: \n",
            " <class 'numpy.ndarray'>\n"
          ],
          "name": "stdout"
        }
      ]
    },
    {
      "cell_type": "markdown",
      "metadata": {
        "id": "UEZBs92NylMJ"
      },
      "source": [
        "Printing the Shape of Data "
      ]
    },
    {
      "cell_type": "code",
      "metadata": {
        "colab": {
          "base_uri": "https://localhost:8080/"
        },
        "id": "dk2xLEr2yocJ",
        "outputId": "0a3da22d-af8b-4586-a505-eac99ada582b"
      },
      "source": [
        "print(\"Shape of data : {}\".format(iris_dataset['data'].shape))"
      ],
      "execution_count": null,
      "outputs": [
        {
          "output_type": "stream",
          "text": [
            "Shape of data : (150, 4)\n"
          ],
          "name": "stdout"
        }
      ]
    },
    {
      "cell_type": "markdown",
      "metadata": {
        "id": "yzK3IudVy3P8"
      },
      "source": [
        "Printing first 10 Columns of the data "
      ]
    },
    {
      "cell_type": "code",
      "metadata": {
        "colab": {
          "base_uri": "https://localhost:8080/"
        },
        "id": "lJEMiYeJzVHB",
        "outputId": "c9ac4cad-83e0-416e-d4dd-f467801c654c"
      },
      "source": [
        "print(\"First 10 Columns of the data : \\n {}\".format(iris_dataset['data'][:10]))"
      ],
      "execution_count": null,
      "outputs": [
        {
          "output_type": "stream",
          "text": [
            "First 10 Columns of the data : \n",
            " [[5.1 3.5 1.4 0.2]\n",
            " [4.9 3.  1.4 0.2]\n",
            " [4.7 3.2 1.3 0.2]\n",
            " [4.6 3.1 1.5 0.2]\n",
            " [5.  3.6 1.4 0.2]\n",
            " [5.4 3.9 1.7 0.4]\n",
            " [4.6 3.4 1.4 0.3]\n",
            " [5.  3.4 1.5 0.2]\n",
            " [4.4 2.9 1.4 0.2]\n",
            " [4.9 3.1 1.5 0.1]]\n"
          ],
          "name": "stdout"
        }
      ]
    },
    {
      "cell_type": "markdown",
      "metadata": {
        "id": "g0hE6og-zjwz"
      },
      "source": [
        "Printing the Type of Target key of iris_dataset "
      ]
    },
    {
      "cell_type": "code",
      "metadata": {
        "colab": {
          "base_uri": "https://localhost:8080/"
        },
        "id": "vRW1ZTxzz0eL",
        "outputId": "a37fca2b-141f-4c2c-a9cf-a4168e6d97aa"
      },
      "source": [
        "print(\"Type of Target : \\n {}\".format(type(iris_dataset['target'])))"
      ],
      "execution_count": null,
      "outputs": [
        {
          "output_type": "stream",
          "text": [
            "Type of Target : \n",
            " <class 'numpy.ndarray'>\n"
          ],
          "name": "stdout"
        }
      ]
    },
    {
      "cell_type": "markdown",
      "metadata": {
        "id": "L-sVAhW40Oot"
      },
      "source": [
        "Printing the Shape of Target key of Iris_dataset"
      ]
    },
    {
      "cell_type": "code",
      "metadata": {
        "colab": {
          "base_uri": "https://localhost:8080/"
        },
        "id": "YYfSmTGh0f9j",
        "outputId": "6017ce42-cf6c-4fde-b4ff-c4d7cc4c7d9d"
      },
      "source": [
        "print(\"Shape of the Target key : \\n {}\".format(iris_dataset['target'].shape))"
      ],
      "execution_count": null,
      "outputs": [
        {
          "output_type": "stream",
          "text": [
            "Shape of the Target key : \n",
            " (150,)\n"
          ],
          "name": "stdout"
        }
      ]
    },
    {
      "cell_type": "markdown",
      "metadata": {
        "id": "lDjHY-3f0sbB"
      },
      "source": [
        "Printing the Value of Target key of Iris_dataset "
      ]
    },
    {
      "cell_type": "code",
      "metadata": {
        "colab": {
          "base_uri": "https://localhost:8080/"
        },
        "id": "N7IAnwMW1E7n",
        "outputId": "97a39a3d-d296-4e9e-c99a-5024c0c650a5"
      },
      "source": [
        "print(\"Value of target : \\n {} \".format(iris_dataset['target']))"
      ],
      "execution_count": null,
      "outputs": [
        {
          "output_type": "stream",
          "text": [
            "Value of target : \n",
            " [0 0 0 0 0 0 0 0 0 0 0 0 0 0 0 0 0 0 0 0 0 0 0 0 0 0 0 0 0 0 0 0 0 0 0 0 0\n",
            " 0 0 0 0 0 0 0 0 0 0 0 0 0 1 1 1 1 1 1 1 1 1 1 1 1 1 1 1 1 1 1 1 1 1 1 1 1\n",
            " 1 1 1 1 1 1 1 1 1 1 1 1 1 1 1 1 1 1 1 1 1 1 1 1 1 1 2 2 2 2 2 2 2 2 2 2 2\n",
            " 2 2 2 2 2 2 2 2 2 2 2 2 2 2 2 2 2 2 2 2 2 2 2 2 2 2 2 2 2 2 2 2 2 2 2 2 2\n",
            " 2 2] \n"
          ],
          "name": "stdout"
        }
      ]
    },
    {
      "cell_type": "markdown",
      "metadata": {
        "id": "Q46e1m0i1Q0O"
      },
      "source": [
        "Importing Train_test_split\n"
      ]
    },
    {
      "cell_type": "code",
      "metadata": {
        "id": "NW0xF79Y3Og1"
      },
      "source": [
        "from sklearn.model_selection import train_test_split\n",
        "X_train, X_test, y_train, y_test = train_test_split(\n",
        "  iris_dataset['data'], iris_dataset['target'], random_state=0)"
      ],
      "execution_count": null,
      "outputs": []
    },
    {
      "cell_type": "markdown",
      "metadata": {
        "id": "FuccPVhT4o1R"
      },
      "source": [
        "Printing the Shape of X_train, X_test, y_train, y_test"
      ]
    },
    {
      "cell_type": "code",
      "metadata": {
        "colab": {
          "base_uri": "https://localhost:8080/"
        },
        "id": "rXVQo5z741_8",
        "outputId": "f8e132f2-ed86-485d-91bd-65ce4f9a14b8"
      },
      "source": [
        "print(\"shape of X_train: {}\".format(X_train.shape))\n",
        "print(\"shape of X_test: {}\".format(X_test.shape))\n",
        "print(\"shape of y_train: {}\".format(y_train.shape))\n",
        "print(\"shape of y_test: {}\".format(y_test.shape))"
      ],
      "execution_count": null,
      "outputs": [
        {
          "output_type": "stream",
          "text": [
            "shape of X_train: (112, 4)\n",
            "shape of X_test: (38, 4)\n",
            "shape of y_train: (112,)\n",
            "shape of y_test: (38,)\n"
          ],
          "name": "stdout"
        }
      ]
    },
    {
      "cell_type": "markdown",
      "metadata": {
        "id": "13r7bmmM5PPC"
      },
      "source": [
        "Importing KNeighborsClassifier"
      ]
    },
    {
      "cell_type": "code",
      "metadata": {
        "id": "WeNXExys5z1l"
      },
      "source": [
        "from sklearn.neighbors import KNeighborsClassifier\n",
        "knn = KNeighborsClassifier(n_neighbors=1)"
      ],
      "execution_count": null,
      "outputs": []
    },
    {
      "cell_type": "markdown",
      "metadata": {
        "id": "AZMWzeDs6duS"
      },
      "source": [
        "Training the Classifier"
      ]
    },
    {
      "cell_type": "code",
      "metadata": {
        "colab": {
          "base_uri": "https://localhost:8080/"
        },
        "id": "00NA7gKi6heb",
        "outputId": "0bceaa59-254a-4805-864f-5d6e8b5d4849"
      },
      "source": [
        "knn.fit(X_train,y_train)"
      ],
      "execution_count": null,
      "outputs": [
        {
          "output_type": "execute_result",
          "data": {
            "text/plain": [
              "KNeighborsClassifier(algorithm='auto', leaf_size=30, metric='minkowski',\n",
              "                     metric_params=None, n_jobs=None, n_neighbors=1, p=2,\n",
              "                     weights='uniform')"
            ]
          },
          "metadata": {
            "tags": []
          },
          "execution_count": 34
        }
      ]
    },
    {
      "cell_type": "markdown",
      "metadata": {
        "id": "0b0UwhlQ6oG0"
      },
      "source": [
        "Testing the Model on One Data point "
      ]
    },
    {
      "cell_type": "code",
      "metadata": {
        "colab": {
          "base_uri": "https://localhost:8080/"
        },
        "id": "YYbS5Pgu7Hyp",
        "outputId": "fcb452e5-e9bf-44cd-8918-99d770d1bf23"
      },
      "source": [
        "x_new = np.array([[8,1.9,4,0.4]])\n",
        "print(\"X_new.shape: {}\".format(x_new.shape))\n",
        "predication = knn.predict(x_new)\n",
        "print(\"Prediction: {}\".format(predication))\n",
        "print(\"Predicted Target name: {}\".format(\n",
        "iris_dataset['target_names'][predication]))"
      ],
      "execution_count": null,
      "outputs": [
        {
          "output_type": "stream",
          "text": [
            "X_new.shape: (1, 4)\n",
            "Prediction: [1]\n",
            "Predicated Target name: ['versicolor']\n"
          ],
          "name": "stdout"
        }
      ]
    },
    {
      "cell_type": "markdown",
      "metadata": {
        "id": "StrRVDY08uGU"
      },
      "source": [
        "Test Set Prediction"
      ]
    },
    {
      "cell_type": "code",
      "metadata": {
        "colab": {
          "base_uri": "https://localhost:8080/"
        },
        "id": "37kUziGy9HFf",
        "outputId": "a96b1b6c-d054-4321-c52f-8597c491e22d"
      },
      "source": [
        "y_pred = knn.predict(X_test)\n",
        "print(\"Test Set Predictions: \\n {}\".format(y_pred))"
      ],
      "execution_count": null,
      "outputs": [
        {
          "output_type": "stream",
          "text": [
            "Test Set Predictions: \n",
            " [2 1 0 2 0 2 0 1 1 1 2 1 1 1 1 0 1 1 0 0 2 1 0 0 2 0 0 1 1 0 2 1 0 2 2 1 0\n",
            " 2]\n"
          ],
          "name": "stdout"
        }
      ]
    },
    {
      "cell_type": "code",
      "metadata": {
        "colab": {
          "base_uri": "https://localhost:8080/"
        },
        "id": "_Hyiz-H69flj",
        "outputId": "822d9e64-545a-4323-b85b-2818cb2ceeb7"
      },
      "source": [
        "print(\"Test Set Score: {}\".format(np.mean(y_pred  ==y_test)))"
      ],
      "execution_count": null,
      "outputs": [
        {
          "output_type": "stream",
          "text": [
            "Test Set Score: 0.9736842105263158\n"
          ],
          "name": "stdout"
        }
      ]
    }
  ]
}